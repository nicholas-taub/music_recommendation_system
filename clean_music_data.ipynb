{
 "cells": [
  {
   "cell_type": "code",
   "execution_count": 42,
   "metadata": {
    "collapsed": true
   },
   "outputs": [],
   "source": [
    "import pandas as pd\n",
    "import numpy as np\n",
    "import matplotlib.pyplot as plt\n",
    "import scipy.sparse as sp\n",
    "import seaborn as sns"
   ]
  },
  {
   "cell_type": "code",
   "execution_count": null,
   "metadata": {
    "collapsed": true
   },
   "outputs": [],
   "source": [
    "# question 1: how influential are age and gender for registraton rates?\n",
    "# question 2: how does age and gender reflect in play rates across users?"
   ]
  },
  {
   "cell_type": "markdown",
   "metadata": {},
   "source": [
    "''' load activity and profile dataframes with parameters '''"
   ]
  },
  {
   "cell_type": "code",
   "execution_count": 5,
   "metadata": {
    "collapsed": true
   },
   "outputs": [],
   "source": [
    "activity_data = pd.read_table('usersha1-artmbid-artname-plays.tsv', header = None, \n",
    "                names = ['users', 'musicbrainz-artist-id', 'artist-name', 'plays'],\n",
    "                usecols = ['users', 'artist-name', 'plays'])"
   ]
  },
  {
   "cell_type": "code",
   "execution_count": 6,
   "metadata": {
    "collapsed": true
   },
   "outputs": [],
   "source": [
    "profile_data = pd.read_table('usersha1-profile.tsv', header = None, parse_dates=['signup'], index_col=['signup'],\n",
    "                names = ['users', 'gender', 'age', 'country', 'signup'],\n",
    "                usecols = ['users', 'gender', 'age', 'country', 'signup'])"
   ]
  },
  {
   "cell_type": "markdown",
   "metadata": {},
   "source": [
    "''' sort time index of profile df '''"
   ]
  },
  {
   "cell_type": "code",
   "execution_count": 7,
   "metadata": {
    "collapsed": true
   },
   "outputs": [],
   "source": [
    "profile_data.sort_index(inplace=True)"
   ]
  },
  {
   "cell_type": "markdown",
   "metadata": {},
   "source": [
    "''' fill missing age values with mean average '''"
   ]
  },
  {
   "cell_type": "code",
   "execution_count": 8,
   "metadata": {
    "collapsed": true
   },
   "outputs": [],
   "source": [
    "profile_data['age'] = profile_data['age'].fillna(round(profile_data['age'].mean()))"
   ]
  },
  {
   "cell_type": "markdown",
   "metadata": {},
   "source": [
    "''' backfill missing gender values '''"
   ]
  },
  {
   "cell_type": "code",
   "execution_count": 9,
   "metadata": {
    "collapsed": true
   },
   "outputs": [],
   "source": [
    "profile_data['gender'].fillna(method='bfill', inplace=True)"
   ]
  },
  {
   "cell_type": "markdown",
   "metadata": {},
   "source": [
    "''' filter US and Canada users '''"
   ]
  },
  {
   "cell_type": "code",
   "execution_count": 10,
   "metadata": {
    "collapsed": true
   },
   "outputs": [],
   "source": [
    "usa_profiles = profile_data.loc[profile_data['country'].isin(['United States', 'Canada'])]"
   ]
  },
  {
   "cell_type": "markdown",
   "metadata": {},
   "source": [
    "''' remove age outlier data '''"
   ]
  },
  {
   "cell_type": "code",
   "execution_count": 11,
   "metadata": {
    "collapsed": true
   },
   "outputs": [],
   "source": [
    "usa_profiles = usa_profiles.query('15 < age < 75')"
   ]
  },
  {
   "cell_type": "markdown",
   "metadata": {},
   "source": [
    "''' merge dataframes on users column '''"
   ]
  },
  {
   "cell_type": "code",
   "execution_count": 12,
   "metadata": {
    "collapsed": true
   },
   "outputs": [],
   "source": [
    "full_df = full_df = pd.merge(activity_data, usa_profiles, on='users')"
   ]
  },
  {
   "cell_type": "markdown",
   "metadata": {},
   "source": [
    "''' rename columns of merged dataframe '''"
   ]
  },
  {
   "cell_type": "code",
   "execution_count": 13,
   "metadata": {
    "collapsed": true
   },
   "outputs": [],
   "source": [
    "full_df.columns = ['users', 'artist', 'plays', 'gender', 'age', 'country']"
   ]
  },
  {
   "cell_type": "markdown",
   "metadata": {},
   "source": [
    "''' filter user and artist '''"
   ]
  },
  {
   "cell_type": "code",
   "execution_count": 14,
   "metadata": {
    "collapsed": true
   },
   "outputs": [],
   "source": [
    "user_artist = full_df[['users','artist']]"
   ]
  },
  {
   "cell_type": "code",
   "execution_count": 15,
   "metadata": {},
   "outputs": [
    {
     "data": {
      "text/plain": [
       "74617"
      ]
     },
     "execution_count": 15,
     "metadata": {},
     "output_type": "execute_result"
    }
   ],
   "source": [
    "user_artist['users'].nunique()"
   ]
  },
  {
   "cell_type": "code",
   "execution_count": 16,
   "metadata": {},
   "outputs": [
    {
     "data": {
      "text/plain": [
       "121344"
      ]
     },
     "execution_count": 16,
     "metadata": {},
     "output_type": "execute_result"
    }
   ],
   "source": [
    "user_artist['artist'].nunique()"
   ]
  },
  {
   "cell_type": "markdown",
   "metadata": {},
   "source": [
    "''' nested of dictionary of user:artists '''"
   ]
  },
  {
   "cell_type": "code",
   "execution_count": 17,
   "metadata": {
    "collapsed": true
   },
   "outputs": [],
   "source": [
    "user_artist_dict = user_artist.groupby('users').artist.apply(list).to_dict()"
   ]
  },
  {
   "cell_type": "code",
   "execution_count": 18,
   "metadata": {},
   "outputs": [
    {
     "data": {
      "text/plain": [
       "dict"
      ]
     },
     "execution_count": 18,
     "metadata": {},
     "output_type": "execute_result"
    }
   ],
   "source": [
    "type(user_artist_dict)"
   ]
  },
  {
   "cell_type": "code",
   "execution_count": 19,
   "metadata": {},
   "outputs": [
    {
     "data": {
      "text/plain": [
       "74617"
      ]
     },
     "execution_count": 19,
     "metadata": {},
     "output_type": "execute_result"
    }
   ],
   "source": [
    "len(user_artist_dict)"
   ]
  },
  {
   "cell_type": "markdown",
   "metadata": {},
   "source": [
    "''' nested of dictionary of artist:users '''"
   ]
  },
  {
   "cell_type": "code",
   "execution_count": 20,
   "metadata": {
    "collapsed": true
   },
   "outputs": [],
   "source": [
    "artist_user_dict = user_artist.groupby('artist').users.apply(list).to_dict()"
   ]
  },
  {
   "cell_type": "code",
   "execution_count": 21,
   "metadata": {
    "scrolled": true
   },
   "outputs": [
    {
     "data": {
      "text/plain": [
       "dict"
      ]
     },
     "execution_count": 21,
     "metadata": {},
     "output_type": "execute_result"
    }
   ],
   "source": [
    "type(artist_user_dict)"
   ]
  },
  {
   "cell_type": "code",
   "execution_count": 22,
   "metadata": {
    "scrolled": true
   },
   "outputs": [
    {
     "data": {
      "text/plain": [
       "121344"
      ]
     },
     "execution_count": 22,
     "metadata": {},
     "output_type": "execute_result"
    }
   ],
   "source": [
    "len(artist_user_dict)"
   ]
  },
  {
   "cell_type": "code",
   "execution_count": 23,
   "metadata": {},
   "outputs": [
    {
     "data": {
      "text/plain": [
       "121344"
      ]
     },
     "execution_count": 23,
     "metadata": {},
     "output_type": "execute_result"
    }
   ],
   "source": [
    "len(artist_user_dict)"
   ]
  },
  {
   "cell_type": "code",
   "execution_count": 24,
   "metadata": {},
   "outputs": [
    {
     "data": {
      "text/plain": [
       "121344"
      ]
     },
     "execution_count": 24,
     "metadata": {},
     "output_type": "execute_result"
    }
   ],
   "source": [
    "full_df['artist'].nunique()"
   ]
  },
  {
   "cell_type": "code",
   "execution_count": 25,
   "metadata": {},
   "outputs": [
    {
     "data": {
      "text/html": [
       "<div>\n",
       "<style>\n",
       "    .dataframe thead tr:only-child th {\n",
       "        text-align: right;\n",
       "    }\n",
       "\n",
       "    .dataframe thead th {\n",
       "        text-align: left;\n",
       "    }\n",
       "\n",
       "    .dataframe tbody tr th {\n",
       "        vertical-align: top;\n",
       "    }\n",
       "</style>\n",
       "<table border=\"1\" class=\"dataframe\">\n",
       "  <thead>\n",
       "    <tr style=\"text-align: right;\">\n",
       "      <th></th>\n",
       "      <th>users</th>\n",
       "      <th>gender</th>\n",
       "      <th>age</th>\n",
       "      <th>country</th>\n",
       "    </tr>\n",
       "    <tr>\n",
       "      <th>signup</th>\n",
       "      <th></th>\n",
       "      <th></th>\n",
       "      <th></th>\n",
       "      <th></th>\n",
       "    </tr>\n",
       "  </thead>\n",
       "  <tbody>\n",
       "    <tr>\n",
       "      <th>2002-10-29</th>\n",
       "      <td>45ee3cbbec1d2b42192961bc0f7e216cb8d89bce</td>\n",
       "      <td>m</td>\n",
       "      <td>31.0</td>\n",
       "      <td>United States</td>\n",
       "    </tr>\n",
       "    <tr>\n",
       "      <th>2002-10-29</th>\n",
       "      <td>c4a0433a23c527320cb043dfc9e059a59582aafd</td>\n",
       "      <td>m</td>\n",
       "      <td>23.0</td>\n",
       "      <td>United States</td>\n",
       "    </tr>\n",
       "    <tr>\n",
       "      <th>2002-10-29</th>\n",
       "      <td>d408a0b04913118763b0f4eb630d153754c03792</td>\n",
       "      <td>m</td>\n",
       "      <td>23.0</td>\n",
       "      <td>Canada</td>\n",
       "    </tr>\n",
       "    <tr>\n",
       "      <th>2002-11-22</th>\n",
       "      <td>da52c1eb19b14ac65ff853bb47715a067db2e3e9</td>\n",
       "      <td>m</td>\n",
       "      <td>29.0</td>\n",
       "      <td>United States</td>\n",
       "    </tr>\n",
       "    <tr>\n",
       "      <th>2002-11-28</th>\n",
       "      <td>dcd2754d09258c013edb15c12c143f4110c8d4f1</td>\n",
       "      <td>m</td>\n",
       "      <td>25.0</td>\n",
       "      <td>United States</td>\n",
       "    </tr>\n",
       "  </tbody>\n",
       "</table>\n",
       "</div>"
      ],
      "text/plain": [
       "                                               users gender   age  \\\n",
       "signup                                                              \n",
       "2002-10-29  45ee3cbbec1d2b42192961bc0f7e216cb8d89bce      m  31.0   \n",
       "2002-10-29  c4a0433a23c527320cb043dfc9e059a59582aafd      m  23.0   \n",
       "2002-10-29  d408a0b04913118763b0f4eb630d153754c03792      m  23.0   \n",
       "2002-11-22  da52c1eb19b14ac65ff853bb47715a067db2e3e9      m  29.0   \n",
       "2002-11-28  dcd2754d09258c013edb15c12c143f4110c8d4f1      m  25.0   \n",
       "\n",
       "                  country  \n",
       "signup                     \n",
       "2002-10-29  United States  \n",
       "2002-10-29  United States  \n",
       "2002-10-29         Canada  \n",
       "2002-11-22  United States  \n",
       "2002-11-28  United States  "
      ]
     },
     "execution_count": 25,
     "metadata": {},
     "output_type": "execute_result"
    }
   ],
   "source": [
    "usa_profiles.head()"
   ]
  },
  {
   "cell_type": "code",
   "execution_count": 26,
   "metadata": {
    "collapsed": true
   },
   "outputs": [],
   "source": [
    "usa_signup_age = usa_profiles.iloc[:, 2]"
   ]
  },
  {
   "cell_type": "code",
   "execution_count": 27,
   "metadata": {},
   "outputs": [
    {
     "data": {
      "text/plain": [
       "signup\n",
       "2002-10-29    31.0\n",
       "2002-10-29    23.0\n",
       "2002-10-29    23.0\n",
       "2002-11-22    29.0\n",
       "2002-11-28    25.0\n",
       "2002-12-02    31.0\n",
       "2003-02-06    29.0\n",
       "2003-02-06    25.0\n",
       "2003-02-06    25.0\n",
       "2003-02-06    42.0\n",
       "2003-02-07    25.0\n",
       "2003-02-07    25.0\n",
       "2003-02-08    39.0\n",
       "2003-02-08    22.0\n",
       "2003-02-09    27.0\n",
       "2003-02-09    29.0\n",
       "2003-02-10    37.0\n",
       "2003-02-10    25.0\n",
       "2003-02-10    25.0\n",
       "2003-02-10    39.0\n",
       "2003-02-10    25.0\n",
       "2003-02-10    40.0\n",
       "2003-02-10    38.0\n",
       "2003-02-10    27.0\n",
       "2003-02-10    44.0\n",
       "2003-02-10    39.0\n",
       "2003-02-10    25.0\n",
       "2003-02-10    29.0\n",
       "2003-02-10    32.0\n",
       "2003-02-10    32.0\n",
       "              ... \n",
       "2009-08-28    25.0\n",
       "2009-08-28    60.0\n",
       "2009-08-28    27.0\n",
       "2009-08-28    28.0\n",
       "2009-08-28    25.0\n",
       "2009-08-28    27.0\n",
       "2009-08-29    25.0\n",
       "2009-08-29    25.0\n",
       "2009-08-30    25.0\n",
       "2009-08-30    31.0\n",
       "2009-09-08    21.0\n",
       "2009-09-09    22.0\n",
       "2009-09-10    28.0\n",
       "2009-09-14    22.0\n",
       "2009-09-15    19.0\n",
       "2009-09-17    28.0\n",
       "2009-09-18    61.0\n",
       "2009-09-20    25.0\n",
       "2009-09-23    41.0\n",
       "2009-10-06    25.0\n",
       "2009-10-07    25.0\n",
       "2009-10-08    20.0\n",
       "2009-10-13    25.0\n",
       "2009-10-16    19.0\n",
       "2009-10-20    19.0\n",
       "2009-10-23    25.0\n",
       "2009-10-25    20.0\n",
       "2009-10-27    19.0\n",
       "2009-10-31    16.0\n",
       "2009-11-02    31.0\n",
       "Name: age, Length: 74720, dtype: float64"
      ]
     },
     "execution_count": 27,
     "metadata": {},
     "output_type": "execute_result"
    }
   ],
   "source": [
    "usa_signup_age"
   ]
  },
  {
   "cell_type": "code",
   "execution_count": null,
   "metadata": {
    "collapsed": true
   },
   "outputs": [],
   "source": []
  },
  {
   "cell_type": "code",
   "execution_count": 28,
   "metadata": {},
   "outputs": [
    {
     "data": {
      "image/png": "[encoded data removed]",
      "text/plain": [
       "<matplotlib.figure.Figure at 0x1348be050>"
      ]
     },
     "metadata": {},
     "output_type": "display_data"
    }
   ],
   "source": [
    "# overall signup ages per year\n",
    "sns.set_style(\"darkgrid\")\n",
    "plt.xlabel('years')\n",
    "plt.ylabel('age')\n",
    "plt.plot(usa_signup_age)\n",
    "plt.title('total signup age per year')\n",
    "plt.show()"
   ]
  },
  {
   "cell_type": "code",
   "execution_count": 29,
   "metadata": {
    "collapsed": true
   },
   "outputs": [],
   "source": [
    "gender_signup_age = usa_profiles.iloc[:, [1,2]]"
   ]
  },
  {
   "cell_type": "code",
   "execution_count": 30,
   "metadata": {},
   "outputs": [
    {
     "data": {
      "image/png": "[encoded data removed]",
      "text/plain": [
       "<matplotlib.figure.Figure at 0x127c36190>"
      ]
     },
     "metadata": {},
     "output_type": "display_data"
    }
   ],
   "source": [
    "# male vs female signup age per year\n",
    "gender_signup_age.groupby('gender')['age'].plot(legend=True)\n",
    "plt.xlabel('years')\n",
    "plt.ylabel('age by gender')\n",
    "plt.title('total signup ages per gender per year')\n",
    "plt.show()"
   ]
  },
  {
   "cell_type": "code",
   "execution_count": 31,
   "metadata": {},
   "outputs": [
    {
     "data": {
      "image/png": "[encoded data removed]",
      "text/plain": [
       "<matplotlib.figure.Figure at 0x138960990>"
      ]
     },
     "metadata": {},
     "output_type": "display_data"
    }
   ],
   "source": [
    "# average a signup age per year\n",
    "usa_signup_age.groupby(pd.TimeGrouper('A')).mean().plot(legend=True, color='green')\n",
    "plt.xlabel('years')\n",
    "plt.ylabel('age')\n",
    "plt.title('average signup age per year')\n",
    "plt.show()"
   ]
  },
  {
   "cell_type": "code",
   "execution_count": 32,
   "metadata": {
    "collapsed": true
   },
   "outputs": [],
   "source": [
    "avg_annual_signup = usa_signup_age.groupby(pd.TimeGrouper('A')).mean()"
   ]
  },
  {
   "cell_type": "code",
   "execution_count": 33,
   "metadata": {},
   "outputs": [
    {
     "data": {
      "image/png": "[encoded data removed]",
      "text/plain": [
       "<matplotlib.figure.Figure at 0x131e641d0>"
      ]
     },
     "metadata": {},
     "output_type": "display_data"
    }
   ],
   "source": [
    "sns.distplot(usa_signup_age, hist=True, color='purple', kde=False)\n",
    "plt.xlabel('age')\n",
    "plt.ylabel('total users')\n",
    "plt.ylim(0, 25000)\n",
    "plt.xlim(15, 45)\n",
    "plt.title('')\n",
    "plt.show()"
   ]
  },
  {
   "cell_type": "code",
   "execution_count": 34,
   "metadata": {},
   "outputs": [
    {
     "data": {
      "text/html": [
       "<div>\n",
       "<style>\n",
       "    .dataframe thead tr:only-child th {\n",
       "        text-align: right;\n",
       "    }\n",
       "\n",
       "    .dataframe thead th {\n",
       "        text-align: left;\n",
       "    }\n",
       "\n",
       "    .dataframe tbody tr th {\n",
       "        vertical-align: top;\n",
       "    }\n",
       "</style>\n",
       "<table border=\"1\" class=\"dataframe\">\n",
       "  <thead>\n",
       "    <tr style=\"text-align: right;\">\n",
       "      <th></th>\n",
       "      <th>users</th>\n",
       "      <th>artist</th>\n",
       "      <th>plays</th>\n",
       "      <th>gender</th>\n",
       "      <th>age</th>\n",
       "      <th>country</th>\n",
       "    </tr>\n",
       "  </thead>\n",
       "  <tbody>\n",
       "    <tr>\n",
       "      <th>0</th>\n",
       "      <td>00001411dc427966b17297bf4d69e7e193135d89</td>\n",
       "      <td>the most serene republic</td>\n",
       "      <td>12763</td>\n",
       "      <td>f</td>\n",
       "      <td>25.0</td>\n",
       "      <td>Canada</td>\n",
       "    </tr>\n",
       "    <tr>\n",
       "      <th>1</th>\n",
       "      <td>00001411dc427966b17297bf4d69e7e193135d89</td>\n",
       "      <td>stars</td>\n",
       "      <td>8192</td>\n",
       "      <td>f</td>\n",
       "      <td>25.0</td>\n",
       "      <td>Canada</td>\n",
       "    </tr>\n",
       "    <tr>\n",
       "      <th>2</th>\n",
       "      <td>00001411dc427966b17297bf4d69e7e193135d89</td>\n",
       "      <td>broken social scene</td>\n",
       "      <td>6413</td>\n",
       "      <td>f</td>\n",
       "      <td>25.0</td>\n",
       "      <td>Canada</td>\n",
       "    </tr>\n",
       "    <tr>\n",
       "      <th>3</th>\n",
       "      <td>00001411dc427966b17297bf4d69e7e193135d89</td>\n",
       "      <td>have heart</td>\n",
       "      <td>5361</td>\n",
       "      <td>f</td>\n",
       "      <td>25.0</td>\n",
       "      <td>Canada</td>\n",
       "    </tr>\n",
       "    <tr>\n",
       "      <th>4</th>\n",
       "      <td>00001411dc427966b17297bf4d69e7e193135d89</td>\n",
       "      <td>luminous orange</td>\n",
       "      <td>5120</td>\n",
       "      <td>f</td>\n",
       "      <td>25.0</td>\n",
       "      <td>Canada</td>\n",
       "    </tr>\n",
       "  </tbody>\n",
       "</table>\n",
       "</div>"
      ],
      "text/plain": [
       "                                      users                    artist  plays  \\\n",
       "0  00001411dc427966b17297bf4d69e7e193135d89  the most serene republic  12763   \n",
       "1  00001411dc427966b17297bf4d69e7e193135d89                     stars   8192   \n",
       "2  00001411dc427966b17297bf4d69e7e193135d89       broken social scene   6413   \n",
       "3  00001411dc427966b17297bf4d69e7e193135d89                have heart   5361   \n",
       "4  00001411dc427966b17297bf4d69e7e193135d89           luminous orange   5120   \n",
       "\n",
       "  gender   age country  \n",
       "0      f  25.0  Canada  \n",
       "1      f  25.0  Canada  \n",
       "2      f  25.0  Canada  \n",
       "3      f  25.0  Canada  \n",
       "4      f  25.0  Canada  "
      ]
     },
     "execution_count": 34,
     "metadata": {},
     "output_type": "execute_result"
    }
   ],
   "source": [
    "full_df.head()"
   ]
  },
  {
   "cell_type": "code",
   "execution_count": 35,
   "metadata": {
    "collapsed": true
   },
   "outputs": [],
   "source": [
    "user_plays = full_df[['age', 'plays']]"
   ]
  },
  {
   "cell_type": "code",
   "execution_count": 36,
   "metadata": {},
   "outputs": [
    {
     "data": {
      "text/html": [
       "<div>\n",
       "<style>\n",
       "    .dataframe thead tr:only-child th {\n",
       "        text-align: right;\n",
       "    }\n",
       "\n",
       "    .dataframe thead th {\n",
       "        text-align: left;\n",
       "    }\n",
       "\n",
       "    .dataframe tbody tr th {\n",
       "        vertical-align: top;\n",
       "    }\n",
       "</style>\n",
       "<table border=\"1\" class=\"dataframe\">\n",
       "  <thead>\n",
       "    <tr style=\"text-align: right;\">\n",
       "      <th></th>\n",
       "      <th>age</th>\n",
       "      <th>plays</th>\n",
       "    </tr>\n",
       "  </thead>\n",
       "  <tbody>\n",
       "    <tr>\n",
       "      <th>0</th>\n",
       "      <td>25.0</td>\n",
       "      <td>12763</td>\n",
       "    </tr>\n",
       "    <tr>\n",
       "      <th>1</th>\n",
       "      <td>25.0</td>\n",
       "      <td>8192</td>\n",
       "    </tr>\n",
       "    <tr>\n",
       "      <th>2</th>\n",
       "      <td>25.0</td>\n",
       "      <td>6413</td>\n",
       "    </tr>\n",
       "    <tr>\n",
       "      <th>3</th>\n",
       "      <td>25.0</td>\n",
       "      <td>5361</td>\n",
       "    </tr>\n",
       "    <tr>\n",
       "      <th>4</th>\n",
       "      <td>25.0</td>\n",
       "      <td>5120</td>\n",
       "    </tr>\n",
       "  </tbody>\n",
       "</table>\n",
       "</div>"
      ],
      "text/plain": [
       "    age  plays\n",
       "0  25.0  12763\n",
       "1  25.0   8192\n",
       "2  25.0   6413\n",
       "3  25.0   5361\n",
       "4  25.0   5120"
      ]
     },
     "execution_count": 36,
     "metadata": {},
     "output_type": "execute_result"
    }
   ],
   "source": [
    "user_plays.head()"
   ]
  },
  {
   "cell_type": "code",
   "execution_count": 37,
   "metadata": {
    "scrolled": true
   },
   "outputs": [
    {
     "data": {
      "image/png": "[encoded data removed]",
      "text/plain": [
       "<matplotlib.figure.Figure at 0x138945390>"
      ]
     },
     "metadata": {},
     "output_type": "display_data"
    }
   ],
   "source": [
    "# average plays per age\n",
    "user_plays.groupby('age').mean().plot(color='grey')\n",
    "plt.xlabel('age')\n",
    "plt.ylabel('average plays')\n",
    "plt.show()"
   ]
  },
  {
   "cell_type": "code",
   "execution_count": 38,
   "metadata": {
    "collapsed": true
   },
   "outputs": [],
   "source": [
    "# highest average plays per age\n",
    "avg_plays_per_age = user_plays.groupby('age').mean()"
   ]
  },
  {
   "cell_type": "code",
   "execution_count": null,
   "metadata": {
    "collapsed": true
   },
   "outputs": [],
   "source": [
    "# early conclusion 1: little to no gender influence on registration patterns; proportionally similar rates of signup between males and females\n",
    "# early conclusion 2: year to year, average age range continues to float between 25 and 30 years old\n",
    "# early conclusion 3: highest average play rates are within the early 20s and late 60s/early 70s "
   ]
  }
 ],
 "metadata": {
  "kernelspec": {
   "display_name": "Python 2",
   "language": "python",
   "name": "python2"
  },
  "language_info": {
   "codemirror_mode": {
    "name": "ipython",
    "version": 2
   },
   "file_extension": ".py",
   "mimetype": "text/x-python",
   "name": "python",
   "nbconvert_exporter": "python",
   "pygments_lexer": "ipython2",
   "version": "2.7.13"
  }
 },
 "nbformat": 4,
 "nbformat_minor": 2
}
