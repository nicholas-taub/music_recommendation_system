{
 "cells": [
  {
   "cell_type": "code",
   "execution_count": 1,
   "metadata": {
    "collapsed": true
   },
   "outputs": [],
   "source": [
    "# Explcit feedback based music recommendation system "
   ]
  },
  {
   "cell_type": "code",
   "execution_count": 2,
   "metadata": {
    "collapsed": true
   },
   "outputs": [],
   "source": [
    "import pandas as pd\n",
    "import numpy as np\n",
    "import matplotlib.pyplot as plt\n",
    "from scipy import sparse\n",
    "from scipy.sparse import csr_matrix, find\n",
    "from scipy.sparse.linalg import spsolve\n",
    "from scipy.stats import * \n",
    "from scipy import spatial\n",
    "from scipy.spatial.distance import pdist\n",
    "from sklearn.neighbors import NearestNeighbors\n",
    "from sklearn.neighbors import KNeighborsClassifier\n",
    "from sklearn.model_selection import train_test_split\n",
    "from sklearn.metrics import accuracy_score\n",
    "from sklearn import model_selection\n",
    "from sklearn import preprocessing\n",
    "from sklearn.metrics.pairwise import pairwise_distances\n",
    "from sklearn.metrics.pairwise import cosine_similarity\n",
    "import random\n",
    "import matplotlib.mlab as mlb\n",
    "import seaborn as sns"
   ]
  },
  {
   "cell_type": "markdown",
   "metadata": {},
   "source": [
    "## Data Preparation and Cleaning"
   ]
  },
  {
   "cell_type": "markdown",
   "metadata": {},
   "source": [
    "Load activity dataframe with parameters and check df head"
   ]
  },
  {
   "cell_type": "code",
   "execution_count": 3,
   "metadata": {},
   "outputs": [
    {
     "data": {
      "text/html": [
       "<div>\n",
       "<style>\n",
       "    .dataframe thead tr:only-child th {\n",
       "        text-align: right;\n",
       "    }\n",
       "\n",
       "    .dataframe thead th {\n",
       "        text-align: left;\n",
       "    }\n",
       "\n",
       "    .dataframe tbody tr th {\n",
       "        vertical-align: top;\n",
       "    }\n",
       "</style>\n",
       "<table border=\"1\" class=\"dataframe\">\n",
       "  <thead>\n",
       "    <tr style=\"text-align: right;\">\n",
       "      <th></th>\n",
       "      <th>users</th>\n",
       "      <th>artist-name</th>\n",
       "      <th>plays</th>\n",
       "    </tr>\n",
       "  </thead>\n",
       "  <tbody>\n",
       "    <tr>\n",
       "      <th>0</th>\n",
       "      <td>00000c289a1829a808ac09c00daf10bc3c4e223b</td>\n",
       "      <td>betty blowtorch</td>\n",
       "      <td>2137</td>\n",
       "    </tr>\n",
       "    <tr>\n",
       "      <th>1</th>\n",
       "      <td>00000c289a1829a808ac09c00daf10bc3c4e223b</td>\n",
       "      <td>die Ärzte</td>\n",
       "      <td>1099</td>\n",
       "    </tr>\n",
       "    <tr>\n",
       "      <th>2</th>\n",
       "      <td>00000c289a1829a808ac09c00daf10bc3c4e223b</td>\n",
       "      <td>melissa etheridge</td>\n",
       "      <td>897</td>\n",
       "    </tr>\n",
       "    <tr>\n",
       "      <th>3</th>\n",
       "      <td>00000c289a1829a808ac09c00daf10bc3c4e223b</td>\n",
       "      <td>elvenking</td>\n",
       "      <td>717</td>\n",
       "    </tr>\n",
       "    <tr>\n",
       "      <th>4</th>\n",
       "      <td>00000c289a1829a808ac09c00daf10bc3c4e223b</td>\n",
       "      <td>juliette &amp; the licks</td>\n",
       "      <td>706</td>\n",
       "    </tr>\n",
       "  </tbody>\n",
       "</table>\n",
       "</div>"
      ],
      "text/plain": [
       "                                      users           artist-name  plays\n",
       "0  00000c289a1829a808ac09c00daf10bc3c4e223b       betty blowtorch   2137\n",
       "1  00000c289a1829a808ac09c00daf10bc3c4e223b             die Ärzte   1099\n",
       "2  00000c289a1829a808ac09c00daf10bc3c4e223b     melissa etheridge    897\n",
       "3  00000c289a1829a808ac09c00daf10bc3c4e223b             elvenking    717\n",
       "4  00000c289a1829a808ac09c00daf10bc3c4e223b  juliette & the licks    706"
      ]
     },
     "execution_count": 3,
     "metadata": {},
     "output_type": "execute_result"
    }
   ],
   "source": [
    "activity_data = pd.read_table('usersha1-artmbid-artname-plays.tsv', header = None, \n",
    "                names = ['users', 'musicbrainz-artist-id', 'artist-name', 'plays'],\n",
    "                usecols = ['users', 'artist-name', 'plays'])\n",
    "activity_data.head()"
   ]
  },
  {
   "cell_type": "markdown",
   "metadata": {
    "collapsed": true
   },
   "source": [
    "Load profile dataframe with parameters  and check df head"
   ]
  },
  {
   "cell_type": "code",
   "execution_count": 4,
   "metadata": {
    "scrolled": true
   },
   "outputs": [
    {
     "data": {
      "text/html": [
       "<div>\n",
       "<style>\n",
       "    .dataframe thead tr:only-child th {\n",
       "        text-align: right;\n",
       "    }\n",
       "\n",
       "    .dataframe thead th {\n",
       "        text-align: left;\n",
       "    }\n",
       "\n",
       "    .dataframe tbody tr th {\n",
       "        vertical-align: top;\n",
       "    }\n",
       "</style>\n",
       "<table border=\"1\" class=\"dataframe\">\n",
       "  <thead>\n",
       "    <tr style=\"text-align: right;\">\n",
       "      <th></th>\n",
       "      <th>users</th>\n",
       "      <th>gender</th>\n",
       "      <th>age</th>\n",
       "      <th>country</th>\n",
       "    </tr>\n",
       "  </thead>\n",
       "  <tbody>\n",
       "    <tr>\n",
       "      <th>0</th>\n",
       "      <td>00000c289a1829a808ac09c00daf10bc3c4e223b</td>\n",
       "      <td>f</td>\n",
       "      <td>22.0</td>\n",
       "      <td>Germany</td>\n",
       "    </tr>\n",
       "    <tr>\n",
       "      <th>1</th>\n",
       "      <td>00001411dc427966b17297bf4d69e7e193135d89</td>\n",
       "      <td>f</td>\n",
       "      <td>NaN</td>\n",
       "      <td>Canada</td>\n",
       "    </tr>\n",
       "    <tr>\n",
       "      <th>2</th>\n",
       "      <td>00004d2ac9316e22dc007ab2243d6fcb239e707d</td>\n",
       "      <td>NaN</td>\n",
       "      <td>NaN</td>\n",
       "      <td>Germany</td>\n",
       "    </tr>\n",
       "    <tr>\n",
       "      <th>3</th>\n",
       "      <td>000063d3fe1cf2ba248b9e3c3f0334845a27a6bf</td>\n",
       "      <td>m</td>\n",
       "      <td>19.0</td>\n",
       "      <td>Mexico</td>\n",
       "    </tr>\n",
       "    <tr>\n",
       "      <th>4</th>\n",
       "      <td>00007a47085b9aab8af55f52ec8846ac479ac4fe</td>\n",
       "      <td>m</td>\n",
       "      <td>28.0</td>\n",
       "      <td>United States</td>\n",
       "    </tr>\n",
       "  </tbody>\n",
       "</table>\n",
       "</div>"
      ],
      "text/plain": [
       "                                      users gender   age        country\n",
       "0  00000c289a1829a808ac09c00daf10bc3c4e223b      f  22.0        Germany\n",
       "1  00001411dc427966b17297bf4d69e7e193135d89      f   NaN         Canada\n",
       "2  00004d2ac9316e22dc007ab2243d6fcb239e707d    NaN   NaN        Germany\n",
       "3  000063d3fe1cf2ba248b9e3c3f0334845a27a6bf      m  19.0         Mexico\n",
       "4  00007a47085b9aab8af55f52ec8846ac479ac4fe      m  28.0  United States"
      ]
     },
     "execution_count": 4,
     "metadata": {},
     "output_type": "execute_result"
    }
   ],
   "source": [
    "profile_data = pd.read_table('usersha1-profile.tsv', header = None, names = ['users', 'gender', 'age', 'country'], \n",
    "                             usecols = ['users', 'gender', 'age', 'country'])\n",
    "profile_data.head()"
   ]
  },
  {
   "cell_type": "markdown",
   "metadata": {},
   "source": [
    "Prepare EDA dataset"
   ]
  },
  {
   "cell_type": "code",
   "execution_count": 5,
   "metadata": {
    "collapsed": true
   },
   "outputs": [],
   "source": [
    "# Fill missing age values with mean average\n",
    "profile_data['age'] = profile_data['age'].fillna(round(profile_data['age'].mean()))\n",
    "# Filter US and Canada users \n",
    "usa_profiles = profile_data[profile_data['country']=='United States']\n",
    "# Remove age outliers >15 and <75\n",
    "usa_age_profiles = usa_profiles.query('15 < age < 45')"
   ]
  },
  {
   "cell_type": "code",
   "execution_count": 6,
   "metadata": {},
   "outputs": [
    {
     "data": {
      "text/plain": [
       "users      64311\n",
       "gender     58055\n",
       "age        64311\n",
       "country    64311\n",
       "dtype: int64"
      ]
     },
     "execution_count": 6,
     "metadata": {},
     "output_type": "execute_result"
    }
   ],
   "source": [
    "# Check usa df counts\n",
    "usa_age_profiles.count()"
   ]
  },
  {
   "cell_type": "markdown",
   "metadata": {},
   "source": [
    "Merge dataframes on users column "
   ]
  },
  {
   "cell_type": "code",
   "execution_count": 7,
   "metadata": {
    "collapsed": true,
    "scrolled": true
   },
   "outputs": [],
   "source": [
    "# full_df for further EDA\n",
    "full_df = pd.merge(activity_data, usa_age_profiles, on='users')\n",
    "full_df.columns = ['users', 'artist', 'plays', 'gender', 'age', 'country']\n",
    "# Drop rows with missing inputs \n",
    "full_df = full_df.dropna()\n",
    "# Filter users with atleast 20 artist selections\n",
    "eda_df = full_df[full_df.groupby('users')['artist'].transform('nunique') >= 50]"
   ]
  },
  {
   "cell_type": "markdown",
   "metadata": {},
   "source": [
    "Set df to popular artists only"
   ]
  },
  {
   "cell_type": "code",
   "execution_count": 8,
   "metadata": {
    "collapsed": true,
    "scrolled": true
   },
   "outputs": [],
   "source": [
    "# userArtist df for collab filtering\n",
    "userArtist = eda_df.groupby(['users', 'artist', 'gender'], as_index = False).sum()\n",
    "\n",
    "# Select artist sums across full activity df\n",
    "artist_df = activity_data.groupby('artist-name')['plays'].sum().reset_index().rename(columns = {'plays': 'total_plays'})\n",
    "# Select artists with plays in 75th percentile \n",
    "artist_df['total_plays'].quantile(0.75)\n",
    "\n",
    "# Select artists with minimum of 150,000 total plays \n",
    "top_artist_df = artist_df[artist_df['total_plays'] > 50000].sort_values('total_plays', ascending=False)\n",
    "\n",
    "artist_top_list = list(top_artist_df['artist-name'])\n",
    "userArtist = userArtist[userArtist['artist'].isin(artist_top_list)]"
   ]
  },
  {
   "cell_type": "code",
   "execution_count": 9,
   "metadata": {},
   "outputs": [
    {
     "data": {
      "text/plain": [
       "users     1192596\n",
       "artist    1192596\n",
       "gender    1192596\n",
       "plays     1192596\n",
       "age       1192596\n",
       "dtype: int64"
      ]
     },
     "execution_count": 9,
     "metadata": {},
     "output_type": "execute_result"
    }
   ],
   "source": [
    "# userArtist counts indicte no missing values \n",
    "userArtist.count()"
   ]
  },
  {
   "cell_type": "markdown",
   "metadata": {},
   "source": [
    "## Initial Findings"
   ]
  },
  {
   "cell_type": "code",
   "execution_count": 10,
   "metadata": {
    "collapsed": true
   },
   "outputs": [],
   "source": [
    "# Filter unique users \n",
    "users = userArtist['users'].unique()\n",
    "# Prepare user IDs for key to key match up between dict and users column\n",
    "user_dict = {ni: indi for indi, ni in enumerate(set(users))}\n",
    "# Convert dict to list of unique IDs\n",
    "user_id = [user_dict[ni] for ni in users]"
   ]
  },
  {
   "cell_type": "code",
   "execution_count": 11,
   "metadata": {
    "scrolled": true
   },
   "outputs": [
    {
     "name": "stdout",
     "output_type": "stream",
     "text": [
      "Total Users: 26306\n",
      "Total Entries: 1192596\n",
      "\n",
      "Total Females: 7264\n",
      "Female Entries: 334309\n",
      "\n",
      "Total Males: 19042\n",
      "Male Entries: 858287\n"
     ]
    }
   ],
   "source": [
    "# Construct new dataframe from userArtist\n",
    "user_artist_plays = userArtist[['users', 'artist', 'plays', 'gender', 'age']]\n",
    "# Switch mixed string user IDs with unique integer-only IDs\n",
    "user_artist_plays['users'] = user_artist_plays['users'].map(user_dict)\n",
    "# Separate female and male user entries\n",
    "female = user_artist_plays[user_artist_plays['gender'] == 'f']\n",
    "male = user_artist_plays[user_artist_plays['gender'] == 'm'] \n",
    "# Identify total users by gender \n",
    "total_females = len(female['users'].unique())\n",
    "total_males = len(male['users'].unique())\n",
    "# Print findings \n",
    "print \"Total Users: \" + str(len(user_artist_plays['users'].unique()))\n",
    "print \"Total Entries: \" + str(len(user_artist_plays))\n",
    "print ''\n",
    "print 'Total Females: ' + str(total_females)\n",
    "print \"Female Entries: \" + str(len(female))\n",
    "print ''\n",
    "print 'Total Males: ' + str(total_males)\n",
    "print \"Male Entries: \" + str(len(male))"
   ]
  },
  {
   "cell_type": "code",
   "execution_count": 12,
   "metadata": {},
   "outputs": [
    {
     "name": "stdout",
     "output_type": "stream",
     "text": [
      "Female User Activity: 28.03%\n",
      "Male User Activity: 71.97%\n"
     ]
    }
   ],
   "source": [
    "# Generate relevant sample sizes  \n",
    "female_length = float(len(female))\n",
    "male_length = float(len(male))\n",
    "user_artst_play_length = len(user_artist_plays)\n",
    "# Generate percentage of activity by gender\n",
    "female_percent = round((female_length/user_artst_play_length * 100), 2) \n",
    "male_percent = round((male_length/user_artst_play_length * 100), 2)\n",
    "# Print results \n",
    "\n",
    "print 'Female User Activity: ' + str(female_percent) + '%'\n",
    "print 'Male User Activity: ' + str(male_percent) + '%'"
   ]
  },
  {
   "cell_type": "code",
   "execution_count": 13,
   "metadata": {
    "scrolled": true
   },
   "outputs": [
    {
     "name": "stdout",
     "output_type": "stream",
     "text": [
      "Average Total Female Plays: 277\n",
      "Average Total Male Plays: 305\n"
     ]
    }
   ],
   "source": [
    "# Find total plays per user by gender\n",
    "female_user_plays = female.groupby('users').plays.mean()\n",
    "male_user_plays = male.groupby('users').plays.mean()\n",
    "# Find total average plays by gender\n",
    "female_plays_average = female_user_plays.values.mean()\n",
    "male_plays_average = male_user_plays.values.mean()\n",
    "# Print results\n",
    "print 'Average Total Female Plays: ' + str(int(female_plays_average))\n",
    "print 'Average Total Male Plays: ' + str(int(male_plays_average))"
   ]
  },
  {
   "cell_type": "markdown",
   "metadata": {},
   "source": [
    "## Inferential Statistics"
   ]
  },
  {
   "cell_type": "markdown",
   "metadata": {},
   "source": [
    "If the p-val is very small, it means it is unlikely that the data came from a normal distribution. P-value >5% threshold rejects the null hypothesis that male and female gender listening activity is normally distributed"
   ]
  },
  {
   "cell_type": "code",
   "execution_count": 14,
   "metadata": {
    "collapsed": true
   },
   "outputs": [],
   "source": [
    "# Convert total plays to lists \n",
    "female_plays_list = female_user_plays.values.tolist()\n",
    "male_plays_list = male_user_plays.values.tolist()\n",
    "\n",
    "# Construct new lists with random female and male total play values, each list size 10,000\n",
    "random_female_plays = random.sample(female_plays_list,  1000)\n",
    "random_male_plays = random.sample(male_plays_list,  1000)"
   ]
  },
  {
   "cell_type": "code",
   "execution_count": 15,
   "metadata": {},
   "outputs": [
    {
     "name": "stdout",
     "output_type": "stream",
     "text": [
      "Both gender samples are not normally distributed\n"
     ]
    }
   ],
   "source": [
    "# Check both gender sets for normal distribution\n",
    "female_distribution, p_female = mstats.normaltest(random_female_plays, axis=0)\n",
    "male_distribution, p_male = mstats.normaltest(random_male_plays, axis=0)\n",
    "if (p_female < 0.055) and (p_male < 0.055):\n",
    "    print 'Both gender samples are not normally distributed'"
   ]
  },
  {
   "cell_type": "code",
   "execution_count": 16,
   "metadata": {
    "scrolled": true
   },
   "outputs": [
    {
     "data": {
      "text/plain": [
       "Ttest_indResult(statistic=-5.3950444011340108, pvalue=6.9622002142044216e-08)"
      ]
     },
     "execution_count": 16,
     "metadata": {},
     "output_type": "execute_result"
    }
   ],
   "source": [
    "# Conduct t test between total plays of male vs female users \n",
    "# P-value >5% common significance threshold rejects the null hypothesis that male and female gender listening activity is normally distributed\n",
    "ttest_ind(female_plays_list, male_plays_list, equal_var=False)\n",
    "\n",
    "# PREVIOUS RESULT:\n",
    "# Ttest_indResult(statistic=-4.2792201760765733, pvalue=1.8813927458995042e-05)\n"
   ]
  },
  {
   "cell_type": "code",
   "execution_count": 17,
   "metadata": {},
   "outputs": [
    {
     "data": {
      "text/plain": [
       "27.889941702888223"
      ]
     },
     "execution_count": 17,
     "metadata": {},
     "output_type": "execute_result"
    }
   ],
   "source": [
    "# average age difference by gender \n",
    "abs(female_user_plays.mean() - male_user_plays.mean())\n",
    "\n",
    "# PREVIOUS RESULT: \n",
    "# 17.57497687582847"
   ]
  },
  {
   "cell_type": "code",
   "execution_count": 18,
   "metadata": {
    "collapsed": true
   },
   "outputs": [],
   "source": [
    "# convert plays by gender in lists\n",
    "female_plays_list = [int(num) for num in female_plays_list]\n",
    "male_plays_list = [ int(num) for num in male_plays_list]"
   ]
  },
  {
   "cell_type": "code",
   "execution_count": 19,
   "metadata": {
    "scrolled": true
   },
   "outputs": [
    {
     "name": "stdout",
     "output_type": "stream",
     "text": [
      "test statistic: -5.39473014166\n",
      "p value: 6.97437223955e-08\n"
     ]
    }
   ],
   "source": [
    "# conduct 2 sample ttest\n",
    "ttest = ttest_ind(female_plays_list, male_plays_list, equal_var=False)\n",
    "print 'test statistic: ' + str(ttest[0])\n",
    "print 'p value: ' + str(ttest[1])\n",
    "\n",
    "# PREVIOUS RESULTS: \n",
    "# test statistic: -4.27907715586\n",
    "# p value: 1.88260121244e-05\n",
    "\n",
    "# new result of p value in decimal is 0.0000000697437223"
   ]
  },
  {
   "cell_type": "markdown",
   "metadata": {},
   "source": [
    "## Data Visualizations"
   ]
  },
  {
   "cell_type": "code",
   "execution_count": 20,
   "metadata": {
    "scrolled": false
   },
   "outputs": [
    {
     "data": {
      "image/png": "[encoded data removed]",
      "text/plain": [
       "<matplotlib.figure.Figure at 0x10479b4d0>"
      ]
     },
     "metadata": {},
     "output_type": "display_data"
    }
   ],
   "source": [
    "fig, ax = plt.subplots(figsize=(10,5))\n",
    "userArtist.groupby(['age','gender']).mean()['plays'].unstack().plot(ax=ax, linewidth=3)\n",
    "plt.xlabel('age')\n",
    "plt.ylabel('plays')\n",
    "plt.xlim((20,40)) \n",
    "plt.ylim((0, 500))\n",
    "plt.title('average plays per age by gender')\n",
    "plt.show()"
   ]
  },
  {
   "cell_type": "code",
   "execution_count": 21,
   "metadata": {},
   "outputs": [
    {
     "data": {
      "image/png": "[encoded data removed]",
      "text/plain": [
       "<matplotlib.figure.Figure at 0x1106dc690>"
      ]
     },
     "metadata": {},
     "output_type": "display_data"
    }
   ],
   "source": [
    "female_plays = female[['gender', 'plays']]\n",
    "male_plays = male[['gender', 'plays']]\n",
    "\n",
    "# plot total playcoumt males vs females\n",
    "joint_avgs = pd.concat([female_plays, male_plays])\n",
    "sns.countplot(x=\"gender\", data=joint_avgs, palette='Purples')\n",
    "plt.title('total playcount by gender')\n",
    "plt.show()"
   ]
  },
  {
   "cell_type": "markdown",
   "metadata": {},
   "source": [
    "## Data Preprocessing"
   ]
  },
  {
   "cell_type": "code",
   "execution_count": 22,
   "metadata": {},
   "outputs": [
    {
     "data": {
      "text/plain": [
       "users     26306\n",
       "artist     7668\n",
       "gender        2\n",
       "plays      7013\n",
       "age          32\n",
       "dtype: int64"
      ]
     },
     "execution_count": 22,
     "metadata": {},
     "output_type": "execute_result"
    }
   ],
   "source": [
    "# user-artist df post filter of popular artists only  \n",
    "# users: 26306\n",
    "# artists: 7668\n",
    "# plays = 7013\n",
    "userArtist.nunique()"
   ]
  },
  {
   "cell_type": "code",
   "execution_count": 23,
   "metadata": {},
   "outputs": [],
   "source": [
    "# Convert df to binary pivot table\n",
    "userArtist['plays'] = userArtist['plays'].astype(int)\n",
    "music_mat = userArtist.pivot_table(index='artist', columns='users', values='plays').fillna(int(0)).apply(np.sign)\n",
    "music_sparse = csr_matrix(music_mat.values)"
   ]
  },
  {
   "cell_type": "markdown",
   "metadata": {},
   "source": [
    "Check cosine distances of users using pairwise_distance function"
   ]
  },
  {
   "cell_type": "code",
   "execution_count": 24,
   "metadata": {},
   "outputs": [
    {
     "data": {
      "text/plain": [
       "array([[ 0.        ,  1.        ,  1.        , ...,  0.84607018,\n",
       "         1.        ,  1.        ],\n",
       "       [ 1.        ,  0.        ,  1.        , ...,  1.        ,\n",
       "         0.97724921,  0.93868607],\n",
       "       [ 1.        ,  1.        ,  0.        , ...,  1.        ,\n",
       "         0.90971061,  1.        ],\n",
       "       ..., \n",
       "       [ 0.84607018,  1.        ,  1.        , ...,  0.        ,\n",
       "         0.97777229,  0.98003192],\n",
       "       [ 1.        ,  0.97724921,  0.90971061, ...,  0.97777229,\n",
       "         0.        ,  0.94141251],\n",
       "       [ 1.        ,  0.93868607,  1.        , ...,  0.98003192,\n",
       "         0.94141251,  0.        ]])"
      ]
     },
     "execution_count": 24,
     "metadata": {},
     "output_type": "execute_result"
    }
   ],
   "source": [
    "# calculate cosine distance of users; clear distance relationships between users\n",
    "user_similarity = pairwise_distances(music_sparse.T, metric='cosine')\n",
    "# check results of user cosine distance\n",
    "user_similarity"
   ]
  },
  {
   "cell_type": "code",
   "execution_count": 25,
   "metadata": {},
   "outputs": [
    {
     "data": {
      "text/plain": [
       "array([[ 0.        ,  1.        ,  1.        , ...,  1.        ,\n",
       "         0.98069052,  1.        ],\n",
       "       [ 1.        ,  0.        ,  1.        , ...,  1.        ,\n",
       "         1.        ,  1.        ],\n",
       "       [ 1.        ,  1.        ,  0.        , ...,  1.        ,\n",
       "         1.        ,  1.        ],\n",
       "       ..., \n",
       "       [ 1.        ,  1.        ,  1.        , ...,  0.        ,\n",
       "         0.8509288 ,  0.9       ],\n",
       "       [ 0.98069052,  1.        ,  1.        , ...,  0.8509288 ,\n",
       "         0.        ,  0.9254644 ],\n",
       "       [ 1.        ,  1.        ,  1.        , ...,  0.9       ,\n",
       "         0.9254644 ,  0.        ]])"
      ]
     },
     "execution_count": 25,
     "metadata": {},
     "output_type": "execute_result"
    }
   ],
   "source": [
    "# calculate cosine distance of items\n",
    "item_similarity = pairwise_distances(music_sparse, metric='cosine')\n",
    "# check results of item cosine distance\n",
    "item_similarity"
   ]
  },
  {
   "cell_type": "markdown",
   "metadata": {},
   "source": [
    "## Predictions"
   ]
  },
  {
   "cell_type": "code",
   "execution_count": 26,
   "metadata": {
    "scrolled": false
   },
   "outputs": [],
   "source": [
    "# Create NearestNeigbor instance and fit data for collaberative filtering and \n",
    "user_knn = NearestNeighbors(metric='cosine', algorithm='brute').fit(music_sparse)"
   ]
  },
  {
   "cell_type": "markdown",
   "metadata": {},
   "source": [
    "Item-item cosine similarity check"
   ]
  },
  {
   "cell_type": "code",
   "execution_count": 27,
   "metadata": {
    "scrolled": true
   },
   "outputs": [
    {
     "name": "stdout",
     "output_type": "stream",
     "text": [
      "Similar artists to CATHEDRAL inlude:\n",
      "\n",
      "artist: REVEREND BIZARRE\n",
      "cosine:: 0.739\n",
      "\n",
      "\n",
      "artist: SAINT VITUS\n",
      "cosine:: 0.77\n",
      "\n",
      "\n",
      "artist: CANDLEMASS\n",
      "cosine:: 0.781\n",
      "\n",
      "\n",
      "artist: BOLT THROWER\n",
      "cosine:: 0.811\n",
      "\n",
      "\n",
      "artist: GRAND MAGUS\n",
      "cosine:: 0.812\n",
      "\n",
      "\n"
     ]
    }
   ],
   "source": [
    "# query users along row index\n",
    "query = np.random.choice(music_mat.shape[0])\n",
    "# find distance and index of artist value versus six closest neighbors\n",
    "dist, ind = user_knn.kneighbors(music_mat.iloc[query, :].values.reshape(1, -1), n_neighbors = 6)\n",
    "\n",
    "for i in range(0, len(dist.flatten())):\n",
    "    if i == 0:\n",
    "        print 'Similar artists to {} inlude:\\n'.format(music_mat.index[query].upper())\n",
    "    else:\n",
    "        like_artist = music_mat.index[ind.flatten()[i]]\n",
    "        like_dist = dist.flatten()[i]\n",
    "        print '{}: {}'.format('artist', like_artist.upper())\n",
    "        print '{}: {}'.format('cosine:', round(like_dist, 3))\n",
    "        print'\\n'"
   ]
  },
  {
   "cell_type": "code",
   "execution_count": 28,
   "metadata": {
    "scrolled": true
   },
   "outputs": [],
   "source": [
    "# User-item collaberative filtering of random user \n",
    "random_user = np.random.choice(userArtist.users)\n",
    "random_user_value = music_mat[random_user]\n",
    "# Pairwise correlation of top five similar users \n",
    "user_corr = music_mat.corrwith(random_user_value)[:10]"
   ]
  },
  {
   "cell_type": "code",
   "execution_count": 29,
   "metadata": {},
   "outputs": [
    {
     "name": "stdout",
     "output_type": "stream",
     "text": [
      "Users like 7dd9efbf7ebd6a2ef363d3887ba1db877f4267d6 include the following: \n",
      "\n",
      "users\n",
      "00007a47085b9aab8af55f52ec8846ac479ac4fe   -0.006736\n",
      "0002dd2154072434d26e5409faa591bfb260a01e    0.263414\n",
      "00041cbfdd019b5431f926133266cc4ba38219bb   -0.004806\n",
      "0008b075deee53a3a090668c7ec581e15c3d8430   -0.006590\n",
      "000d109e4a25299eeef77a14d6b6a81479d1ac0e   -0.007744\n",
      "000d8c54934cc3a9eab276ccb412dbf52b980a44    0.011575\n",
      "000f5ca9514226b8b1589f57f02bbdc839bf8727    0.013463\n",
      "001169ca4be3a1ed81e2f510039f3dcd663313e8   -0.007553\n",
      "00141206c6d82c1f53fe895b99064318be656ee0   -0.006878\n",
      "00179de35ed4053bf6b637268e303b0f2b2cb55f   -0.006949\n",
      "dtype: float64\n"
     ]
    }
   ],
   "source": [
    "print 'Users like {} include the following:'.format(random_user), '\\n'\n",
    "print user_corr"
   ]
  },
  {
   "cell_type": "markdown",
   "metadata": {},
   "source": [
    "## Conclusions"
   ]
  },
  {
   "cell_type": "markdown",
   "metadata": {},
   "source": [
    "This report demonstrated the necessary data wrangling procedures to prepare inputs for EDA, statistical examination and predictions of similar items. By focusing on active users, given a minimal listening threshold, coupled with artists whose popularity serves as a function of their total plays, the EDA illustrated a clear majority of male users across the active 20-40 age range. \n",
    "\n",
    "The item to item collaberative filtering using the NearestNeighbors model showed effective given the dimensions of the prediction data. Further research should consider modeling methods more suitable for scalable music recommender engines. This would allow for maintained accuracy given more artists and more users. "
   ]
  },
  {
   "cell_type": "code",
   "execution_count": null,
   "metadata": {
    "collapsed": true
   },
   "outputs": [],
   "source": []
  }
 ],
 "metadata": {
  "kernelspec": {
   "display_name": "Python 2",
   "language": "python",
   "name": "python2"
  },
  "language_info": {
   "codemirror_mode": {
    "name": "ipython",
    "version": 2
   },
   "file_extension": ".py",
   "mimetype": "text/x-python",
   "name": "python",
   "nbconvert_exporter": "python",
   "pygments_lexer": "ipython2",
   "version": "2.7.13"
  }
 },
 "nbformat": 4,
 "nbformat_minor": 2
}
